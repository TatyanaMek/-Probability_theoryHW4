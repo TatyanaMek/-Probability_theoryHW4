{
 "cells": [
  {
   "cell_type": "code",
   "execution_count": 1,
   "metadata": {},
   "outputs": [
    {
     "name": "stdout",
     "output_type": "stream",
     "text": [
      "На промежутке (200;800]\n",
      "Среднее значение: М(А) =  500.00\n",
      "Дисперсия: D(A) =  30000.00\n"
     ]
    }
   ],
   "source": [
    "# Задача 1\n",
    "def mean_and_variance(a,b):\n",
    "    return f'На промежутке ({a};{b}]\\nСреднее значение: М(А) = {(a+b)/2: .2f}\\nДисперсия: D(A) = {((b-a)**2)/12: .2f}'\n",
    "print(mean_and_variance(200,800))"
   ]
  },
  {
   "cell_type": "markdown",
   "metadata": {},
   "source": [
    "Задача 2"
   ]
  },
  {
   "cell_type": "code",
   "execution_count": 2,
   "metadata": {},
   "outputs": [
    {
     "name": "stdout",
     "output_type": "stream",
     "text": [
      "Левая граница распределения величины В - b =  2.049\n",
      "Среднее значение В на промежутке (0.5;  2.049) M(B) =  1.275\n"
     ]
    }
   ],
   "source": [
    "b=0.5+2.4**(1/2)\n",
    "print(f'Левая граница распределения величины В - b = {b: .3f}\\n'\n",
    "      f'Среднее значение В на промежутке (0.5; {b: .3f}) M(B) = {(b+0.5)/2: .3f}'     \n",
    "     )"
   ]
  },
  {
   "cell_type": "markdown",
   "metadata": {},
   "source": [
    "Задача 5"
   ]
  },
  {
   "cell_type": "code",
   "execution_count": 3,
   "metadata": {},
   "outputs": [
    {
     "data": {
      "text/plain": [
       "2.4"
      ]
     },
     "execution_count": 3,
     "metadata": {},
     "output_type": "execute_result"
    }
   ],
   "source": [
    "Z=(190-178)/25**(1/2)\n",
    "Z"
   ]
  }
 ],
 "metadata": {
  "kernelspec": {
   "display_name": "Python 3.10.10 64-bit (microsoft store)",
   "language": "python",
   "name": "python3"
  },
  "language_info": {
   "codemirror_mode": {
    "name": "ipython",
    "version": 3
   },
   "file_extension": ".py",
   "mimetype": "text/x-python",
   "name": "python",
   "nbconvert_exporter": "python",
   "pygments_lexer": "ipython3",
   "version": "3.10.11"
  },
  "orig_nbformat": 4,
  "vscode": {
   "interpreter": {
    "hash": "4a6a10f7085859266aea859bd427c96a79e1ce40bd7ac3dabe2681eae8043e08"
   }
  }
 },
 "nbformat": 4,
 "nbformat_minor": 2
}
